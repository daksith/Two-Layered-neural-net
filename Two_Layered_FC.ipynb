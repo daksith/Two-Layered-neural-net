{
 "cells": [
  {
   "cell_type": "code",
   "execution_count": 1,
   "metadata": {},
   "outputs": [],
   "source": [
    "import tensorflow as tf\n",
    "from tensorflow import keras\n",
    "import numpy as np\n",
    "import matplotlib.pyplot as plt"
   ]
  },
  {
   "cell_type": "code",
   "execution_count": 2,
   "metadata": {},
   "outputs": [
    {
     "name": "stdout",
     "output_type": "stream",
     "text": [
      "x_train:  (50000, 32, 32, 3)\n"
     ]
    }
   ],
   "source": [
    "(x_train, y_train), (x_test, y_test) = keras.datasets.cifar10.load_data()\n",
    "print('x_train: ', x_train.shape)"
   ]
  },
  {
   "cell_type": "code",
   "execution_count": 3,
   "metadata": {},
   "outputs": [],
   "source": [
    "K = len(np.unique(y_train)) # Classes\n",
    "Ntr = x_train.shape[0]\n",
    "Nte = x_test.shape[0]\n",
    "Din = 3072 # CIFAR10"
   ]
  },
  {
   "cell_type": "code",
   "execution_count": 4,
   "metadata": {},
   "outputs": [],
   "source": [
    "#x_train, x_test = x_train , x_test \n",
    "mean_image = np.mean(x_train, axis=0)\n",
    "x_train = x_train - mean_image\n",
    "x_test = x_test - mean_image"
   ]
  },
  {
   "cell_type": "code",
   "execution_count": 5,
   "metadata": {},
   "outputs": [],
   "source": [
    "x_train = np.reshape(x_train,(Ntr,Din))\n",
    "x_test = np.reshape(x_test,(Nte,Din))\n",
    "x_train = x_train.astype('float32')\n",
    "x_test = x_test.astype('float32')"
   ]
  },
  {
   "cell_type": "code",
   "execution_count": 6,
   "metadata": {},
   "outputs": [],
   "source": [
    "y_train = tf.keras.utils.to_categorical(y_train, num_classes=K)\n",
    "y_test = tf.keras.utils.to_categorical(y_test, num_classes=K)"
   ]
  },
  {
   "cell_type": "code",
   "execution_count": 7,
   "metadata": {},
   "outputs": [],
   "source": [
    "std=1e-5\n",
    "H = 200\n",
    "w1 = std*np.random.randn(Din, H)\n",
    "b1 = np.zeros(H)\n",
    "w2 = std*np.random.randn(H, K)\n",
    "b2 = np.zeros(K)"
   ]
  },
  {
   "cell_type": "code",
   "execution_count": 8,
   "metadata": {},
   "outputs": [],
   "source": [
    "iterations = 300\n",
    "alpha = 0.5e-2\n",
    "lamda = 5e-6\n",
    "decay = 0.999"
   ]
  },
  {
   "cell_type": "code",
   "execution_count": 9,
   "metadata": {},
   "outputs": [
    {
     "name": "stdout",
     "output_type": "stream",
     "text": [
      "iteration 1 0.9999999434941892\n",
      "iteration 20 0.8627723385143642\n",
      "iteration 40 0.8394134507013334\n",
      "iteration 60 0.8278999979100715\n",
      "iteration 80 0.8186861605095255\n",
      "iteration 100 0.8098279482342781\n",
      "iteration 120 0.8048366672977931\n",
      "iteration 140 0.7954185879905953\n",
      "iteration 160 0.7885879425121799\n",
      "iteration 180 0.784561175825965\n",
      "iteration 200 0.778490057196885\n",
      "iteration 220 0.7750637506175638\n",
      "iteration 240 0.7743316288942749\n",
      "iteration 260 0.7686677498778419\n",
      "iteration 280 0.7647785005310737\n",
      "iteration 300 0.7639305981851796\n"
     ]
    }
   ],
   "source": [
    "for i in range(1,iterations+1):\n",
    "    h = 1/(1+np.exp(-(x_train.dot(w1)+b1)))\n",
    "    y_hat = h.dot(w2) + b2\n",
    "    cost = (1/Ntr) * np.square(y_hat-y_train).sum() + lamda*(np.sum(w2*w2) + np.sum(w1*w1))\n",
    "    if i %20 == 0 or i==1:\n",
    "        print('iteration', i, cost)\n",
    "    \n",
    "    dy_hat = (1/Ntr)*2*(y_hat-y_train)\n",
    "    dw2 = h.T.dot(dy_hat) + lamda*w2\n",
    "    db2 = dy_hat.sum(axis=0)\n",
    "    dh = dy_hat.dot(w2.T)\n",
    "    dw1 = x_train.T.dot(dh*h*(1-h)) + lamda*w1\n",
    "    db1 = (dh*h*(1-h)).sum(axis=0)\n",
    "    w1 -= alpha*dw1\n",
    "    w2 -= alpha*dw2\n",
    "    b1 -= alpha*db1\n",
    "    b2 -= alpha*db2\n",
    "    alpha = alpha * decay"
   ]
  },
  {
   "cell_type": "code",
   "execution_count": 10,
   "metadata": {},
   "outputs": [],
   "source": [
    "h1 = 1/(1+np.exp(-(x_train.dot(w1)+b1)))\n",
    "pred1 = h1.dot(w2) + b2"
   ]
  },
  {
   "cell_type": "code",
   "execution_count": 11,
   "metadata": {},
   "outputs": [],
   "source": [
    "train_pred = np.argmax(pred1, axis=1)\n",
    "y_t = np.argmax(y_train,axis=1)"
   ]
  },
  {
   "cell_type": "code",
   "execution_count": 15,
   "metadata": {},
   "outputs": [
    {
     "name": "stdout",
     "output_type": "stream",
     "text": [
      "Train accuracy and loss 0.43268 0.76393059952796\n"
     ]
    }
   ],
   "source": [
    "print('Train accuracy and loss',np.mean(y_t == train_pred),(1/Ntr) * np.square(y_hat-y_train).sum() + lamda*(np.sum(w2*w2) + np.sum(w1*w1)))"
   ]
  },
  {
   "cell_type": "code",
   "execution_count": 17,
   "metadata": {},
   "outputs": [],
   "source": [
    "h1 = 1/(1+np.exp(-(x_test.dot(w1)+b1)))\n",
    "pred1 = h1.dot(w2) + b2\n",
    "test_pred = np.argmax(pred1, axis=1)\n",
    "y_t = np.argmax(y_test,axis=1)\n",
    "test_acc = np.mean(y_t == test_pred)\n",
    "test_loss = (1/Nte) * np.square(pred1-y_test).sum() + lamda*(np.sum(w2*w2) + np.sum(w1*w1))"
   ]
  },
  {
   "cell_type": "code",
   "execution_count": 18,
   "metadata": {},
   "outputs": [
    {
     "name": "stdout",
     "output_type": "stream",
     "text": [
      "Test accuracy and loss 0.4182 0.770682761124909\n"
     ]
    }
   ],
   "source": [
    "print('Test accuracy and loss',test_acc,test_loss)"
   ]
  },
  {
   "cell_type": "code",
   "execution_count": null,
   "metadata": {},
   "outputs": [],
   "source": []
  }
 ],
 "metadata": {
  "kernelspec": {
   "display_name": "Python 3",
   "language": "python",
   "name": "python3"
  },
  "language_info": {
   "codemirror_mode": {
    "name": "ipython",
    "version": 3
   },
   "file_extension": ".py",
   "mimetype": "text/x-python",
   "name": "python",
   "nbconvert_exporter": "python",
   "pygments_lexer": "ipython3",
   "version": "3.7.4"
  }
 },
 "nbformat": 4,
 "nbformat_minor": 4
}
